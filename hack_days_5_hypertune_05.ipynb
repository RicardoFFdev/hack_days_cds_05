{
 "cells": [
  {
   "cell_type": "markdown",
   "id": "862db085",
   "metadata": {},
   "source": [
    "## 0.0 Imports"
   ]
  },
  {
   "cell_type": "code",
   "execution_count": null,
   "id": "c5d5da4d",
   "metadata": {
    "ExecuteTime": {
     "end_time": "2023-07-15T14:48:14.113638Z",
     "start_time": "2023-07-15T14:48:14.102719Z"
    }
   },
   "outputs": [],
   "source": [
    "import sweetviz\n",
    "import inflection\n",
    "import optuna\n",
    "import warnings\n",
    "\n",
    "import numpy  as np\n",
    "import pandas as pd\n",
    "\n",
    "from sklearn.tree              import DecisionTreeClassifier\n",
    "from sklearn.svm               import SVC\n",
    "from sklearn.naive_bayes       import GaussianNB\n",
    "from sklearn.linear_model      import LogisticRegression\n",
    "from sklearn.metrics           import precision_score, accuracy_score\n",
    "from boruta                    import BorutaPy\n",
    "from sklearn                   import metrics       as mt\n",
    "from xgboost                   import XGBClassifier\n",
    "from lightgbm                  import LGBMClassifier\n",
    "from catboost                  import CatBoostClassifier\n",
    "from sklearn.ensemble          import RandomForestClassifier, VotingClassifier\n",
    "from sklearn.preprocessing     import LabelEncoder\n",
    "from sklearn.model_selection   import train_test_split, GridSearchCV, KFold, cross_val_score\n",
    "from sklearn.feature_selection import RFECV\n",
    "\n",
    "\n",
    "warnings.filterwarnings('ignore')"
   ]
  },
  {
   "cell_type": "markdown",
   "id": "11659b60",
   "metadata": {},
   "source": [
    "### 0.1 Loading Data"
   ]
  },
  {
   "cell_type": "code",
   "execution_count": null,
   "id": "bf9b8002",
   "metadata": {
    "ExecuteTime": {
     "end_time": "2023-07-15T14:11:52.209513Z",
     "start_time": "2023-07-15T14:11:51.992622Z"
    }
   },
   "outputs": [],
   "source": [
    "df_raw = pd.read_csv('data/train.csv')"
   ]
  },
  {
   "cell_type": "code",
   "execution_count": null,
   "id": "ac3ca4a5",
   "metadata": {
    "ExecuteTime": {
     "end_time": "2023-07-15T14:11:52.240405Z",
     "start_time": "2023-07-15T14:11:52.210513Z"
    }
   },
   "outputs": [],
   "source": [
    "df_raw.head()"
   ]
  },
  {
   "cell_type": "code",
   "execution_count": null,
   "id": "bd140d50",
   "metadata": {},
   "outputs": [],
   "source": [
    "df_raw.columns"
   ]
  },
  {
   "cell_type": "code",
   "execution_count": null,
   "id": "6941a4ea",
   "metadata": {},
   "outputs": [],
   "source": [
    "df_raw.shape"
   ]
  },
  {
   "cell_type": "code",
   "execution_count": null,
   "id": "90ec5d37",
   "metadata": {},
   "outputs": [],
   "source": []
  },
  {
   "cell_type": "markdown",
   "id": "afde96dd",
   "metadata": {},
   "source": [
    "### 0.2 Helper Functions"
   ]
  },
  {
   "cell_type": "code",
   "execution_count": null,
   "id": "7a9c1fd4",
   "metadata": {
    "ExecuteTime": {
     "end_time": "2023-07-15T15:10:33.008701Z",
     "start_time": "2023-07-15T15:10:32.996658Z"
    }
   },
   "outputs": [],
   "source": [
    "def classification_metrics(model, y_val, y_hat):\n",
    "    precision_micro = mt.precision_score(y_val, y_hat, average='micro')    \n",
    "    acc_score = mt.accuracy_score(y_val, y_hat)\n",
    "    recall_micro = mt.recall_score(y_val, y_hat)\n",
    "    f1_micro = mt.f1_score(y_val, y_hat)\n",
    "    \n",
    "    df = pd.DataFrame([model.__name__, precision_micro, acc_score, recall_micro, f1_micro],\n",
    "                       index=['Model', 'Precision', 'Accuracy', 'Recall', 'F1'])\n",
    "    \n",
    "    return df\n",
    "\n",
    "def data_cleaning(df1):\n",
    "    \n",
    "    cols_old = df1.columns\n",
    "    cols_new = cols_old.map(lambda x: inflection.parameterize(x, separator='_'))\n",
    "    df1.columns = cols_new\n",
    "    \n",
    "    df1 = df1.fillna(0)\n",
    "    \n",
    "    return df1\n",
    "\n",
    "def encoding_data(df4):\n",
    "    le = LabelEncoder()\n",
    "\n",
    "    colunas = categorical_attributes.columns\n",
    "\n",
    "    for coluna in colunas:\n",
    "        df4[coluna] = le.fit_transform(df4[coluna])\n",
    "        \n",
    "    return df4\n",
    "\n",
    "\n",
    "def feature_eng(df21):\n",
    "\n",
    "    survey_features = ['instore_wifi', 'open_close_time_convenient', 'easy_of_online_shopping', 'store_location', \n",
    "                       'toilet_cleaning', 'dressing_room', 'waiting_room','kids_entertainment','seller_service', 'showroom', 'self-store', \n",
    "                       'purchase_service', 'store_service', 'cleanliness']\n",
    "\n",
    "    df21['average_rating'] = df21[survey_features].mean(axis=1)\n",
    "    df21['max_rating'] = df21[survey_features].max(axis=1)\n",
    "    df21['min_rating'] = df21[survey_features].min(axis=1)\n",
    "    df21['var_rating'] = df21[survey_features].var(axis=1)\n",
    "\n",
    "    df21['count_positive'] = df21[survey_features].apply(lambda row: sum(row > 3), axis=1)\n",
    "    df21['count_negative'] = df21[survey_features].apply(lambda row: sum(row <= 3), axis=1)\n",
    "\n",
    "    return df21\n",
    "\n",
    "\n",
    "# LGBM Classifier\n",
    "# Define the objective function for Optuna optimization LGBM\n",
    "def objective_lgbm(trial):\n",
    "    # Define hyperparameter search spaces for Optuna\n",
    "    params = {\n",
    "        'learning_rate': trial.suggest_float('learning_rate', 0.01, 0.1),\n",
    "        'n_estimators': trial.suggest_int('n_estimators', 100, 500),\n",
    "        'max_depth': trial.suggest_int('max_depth', 3, 10),\n",
    "        'num_leaves': trial.suggest_int('num_leaves', 15, 50),\n",
    "        'min_child_samples': trial.suggest_int('min_child_samples', 1, 20),\n",
    "        'subsample': trial.suggest_float('subsample', 0.8, 1.0),\n",
    "        'colsample_bytree': trial.suggest_float('colsample_bytree', 0.8, 1.0),\n",
    "        'reg_alpha': trial.suggest_float('reg_alpha', 0, 1.0),\n",
    "        'reg_lambda': trial.suggest_float('reg_lambda', 0, 1.0),\n",
    "    }\n",
    "\n",
    "    # Initialize and train the LGBMClassifier with the suggested hyperparameters\n",
    "    lgb_model = LGBMClassifier(**params)\n",
    "    lgb_model.fit(X_train, y_train)\n",
    "\n",
    "    # Predict on the testing set\n",
    "    y_pred = lgb_model.predict(X_val)\n",
    "\n",
    "    # Calculate micro-averaged precision manually\n",
    "    precision_micro = precision_score(y_val, y_pred, average='micro')\n",
    "\n",
    "    return precision_micro\n",
    "\n",
    "# XGBoost Classifier\n",
    "# Define the objective function for Optuna optimization for XGBoost Classifier\n",
    "def objective_xgb(trial):\n",
    "    # Define hyperparameter search spaces for Optuna\n",
    "    params = {\n",
    "        'learning_rate': trial.suggest_float('learning_rate', 0.01, 0.1),\n",
    "        'n_estimators': trial.suggest_int('n_estimators', 100, 500),\n",
    "        'max_depth': trial.suggest_int('max_depth', 3, 10),\n",
    "        'min_child_weight': trial.suggest_int('min_child_weight', 1, 5),\n",
    "        'subsample': trial.suggest_float('subsample', 0.8, 1.0),\n",
    "        'colsample_bytree': trial.suggest_float('colsample_bytree', 0.8, 1.0),\n",
    "        'gamma': trial.suggest_float('gamma', 0, 0.2),\n",
    "        'reg_alpha': trial.suggest_float('reg_alpha', 0, 1.0),\n",
    "        'reg_lambda': trial.suggest_float('reg_lambda', 0, 1.0),\n",
    "    }\n",
    "\n",
    "    # Initialize and train the XGBClassifier with the suggested hyperparameters\n",
    "    xgb_model = XGBClassifier(**params)\n",
    "    xgb_model.fit(X_train, y_train)\n",
    "\n",
    "    # Predict on the testing set\n",
    "    y_pred = xgb_model.predict(X_val)\n",
    "\n",
    "    # Calculate micro-averaged precision manually\n",
    "    precision_micro = precision_score(y_val, y_pred, average='micro')\n",
    "\n",
    "    return precision_micro\n",
    "\n",
    "# CatBoostClassifier\n",
    "def objective_cbc(trial):\n",
    "    # Define hyperparameter search spaces for Optuna\n",
    "    params = {\n",
    "        'learning_rate': trial.suggest_float('learning_rate', 0.01, 0.1),\n",
    "        'iterations': trial.suggest_int('iterations', 100, 500),\n",
    "        'depth': trial.suggest_int('depth', 3, 10),\n",
    "        'l2_leaf_reg': trial.suggest_float('l2_leaf_reg', 1, 10),\n",
    "        'subsample': trial.suggest_float('subsample', 0.8, 1.0),\n",
    "        'colsample_bylevel': trial.suggest_float('colsample_bylevel', 0.8, 1.0),\n",
    "        'border_count': trial.suggest_int('border_count', 32, 255),\n",
    "    }\n",
    "\n",
    "    # Initialize and train the CatBoostClassifier with the suggested hyperparameters\n",
    "    cat_model = CatBoostClassifier(**params, verbose=False)\n",
    "    cat_model.fit(X_train, y_train)\n",
    "\n",
    "    # Predict on the testing set\n",
    "    y_pred = cat_model.predict(X_val)\n",
    "\n",
    "    # Calculate micro-averaged accuracy manually\n",
    "    accuracy_micro = precision_score(y_val, y_pred, average='micro')\n",
    "\n",
    "    return accuracy_micro\n",
    "\n",
    "\n",
    "\n",
    "# Random Forest Classifier Optuna\n",
    "def objective_rfc(trial):\n",
    "    # Define hyperparameter search spaces for Optuna\n",
    "    params = {\n",
    "        'n_estimators': trial.suggest_int('n_estimators', 100, 500),\n",
    "        'max_depth': trial.suggest_int('max_depth', 3, 10),\n",
    "        'min_samples_split': trial.suggest_int('min_samples_split', 2, 10),\n",
    "        'min_samples_leaf': trial.suggest_int('min_samples_leaf', 1, 5),\n",
    "        'max_features': trial.suggest_float('max_features', 0.1, 1.0),\n",
    "    }\n",
    "\n",
    "    # Initialize and train the RandomForestClassifier with the suggested hyperparameters\n",
    "    rf_model = RandomForestClassifier(**params, random_state=42)\n",
    "    rf_model.fit(X_train, y_train)\n",
    "\n",
    "    # Predict on the testing set\n",
    "    y_pred = rf_model.predict(X_val)\n",
    "\n",
    "    # Calculate micro-averaged accuracy manually\n",
    "    accuracy_micro = precision_score(y_val, y_pred, average='micro')\n",
    "\n",
    "    return accuracy_micro"
   ]
  },
  {
   "cell_type": "markdown",
   "id": "52dda887",
   "metadata": {},
   "source": [
    "## 1.0 Data Description"
   ]
  },
  {
   "cell_type": "code",
   "execution_count": null,
   "id": "6e7c517b",
   "metadata": {
    "ExecuteTime": {
     "end_time": "2023-07-15T14:11:52.255873Z",
     "start_time": "2023-07-15T14:11:52.241913Z"
    }
   },
   "outputs": [],
   "source": [
    "df1 = df_raw.copy()"
   ]
  },
  {
   "cell_type": "code",
   "execution_count": null,
   "id": "49bc7e78",
   "metadata": {
    "ExecuteTime": {
     "end_time": "2023-07-15T14:11:52.287593Z",
     "start_time": "2023-07-15T14:11:52.257866Z"
    }
   },
   "outputs": [],
   "source": [
    "df1.head()"
   ]
  },
  {
   "cell_type": "markdown",
   "id": "003bdac2",
   "metadata": {},
   "source": [
    "### 1.1 Data Shape"
   ]
  },
  {
   "cell_type": "code",
   "execution_count": null,
   "id": "5448f47a",
   "metadata": {
    "ExecuteTime": {
     "end_time": "2023-07-15T14:11:52.302642Z",
     "start_time": "2023-07-15T14:11:52.290594Z"
    }
   },
   "outputs": [],
   "source": [
    "df1.shape"
   ]
  },
  {
   "cell_type": "markdown",
   "id": "63542741",
   "metadata": {},
   "source": [
    "### 1.2 Rename Columns"
   ]
  },
  {
   "cell_type": "code",
   "execution_count": null,
   "id": "0b296b67",
   "metadata": {
    "ExecuteTime": {
     "end_time": "2023-07-15T14:11:52.318282Z",
     "start_time": "2023-07-15T14:11:52.304641Z"
    }
   },
   "outputs": [],
   "source": [
    "cols_old = df1.columns\n",
    "cols_new = cols_old.map(lambda x: inflection.parameterize(x, separator='_'))\n",
    "df1.columns = cols_new"
   ]
  },
  {
   "cell_type": "markdown",
   "id": "4d2e595e",
   "metadata": {},
   "source": [
    "### 1.3 Check NaN"
   ]
  },
  {
   "cell_type": "code",
   "execution_count": null,
   "id": "0beaa782",
   "metadata": {
    "ExecuteTime": {
     "end_time": "2023-07-15T14:11:52.412915Z",
     "start_time": "2023-07-15T14:11:52.324147Z"
    }
   },
   "outputs": [],
   "source": [
    "df1.isna().sum()"
   ]
  },
  {
   "cell_type": "code",
   "execution_count": null,
   "id": "045f4fb9",
   "metadata": {
    "ExecuteTime": {
     "end_time": "2023-07-15T14:11:52.490439Z",
     "start_time": "2023-07-15T14:11:52.415248Z"
    }
   },
   "outputs": [],
   "source": [
    "df1 = df1.fillna(0)"
   ]
  },
  {
   "cell_type": "markdown",
   "id": "24cf84de",
   "metadata": {},
   "source": [
    "### 1.4 Change Types"
   ]
  },
  {
   "cell_type": "code",
   "execution_count": null,
   "id": "8d3ec42e",
   "metadata": {
    "ExecuteTime": {
     "end_time": "2023-07-15T14:11:52.506204Z",
     "start_time": "2023-07-15T14:11:52.492458Z"
    }
   },
   "outputs": [],
   "source": [
    "df1.dtypes"
   ]
  },
  {
   "cell_type": "markdown",
   "id": "09e91939",
   "metadata": {},
   "source": [
    "### 1.5 Descriptive Statistics"
   ]
  },
  {
   "cell_type": "code",
   "execution_count": null,
   "id": "04aeaa60",
   "metadata": {
    "ExecuteTime": {
     "end_time": "2023-07-15T14:11:52.536773Z",
     "start_time": "2023-07-15T14:11:52.507200Z"
    }
   },
   "outputs": [],
   "source": [
    "numerical_attributes = df1.select_dtypes(include=['float64','int64'])\n",
    "categorical_attributes = df1.select_dtypes(exclude=['float64','int64'])"
   ]
  },
  {
   "cell_type": "code",
   "execution_count": null,
   "id": "9d75c104",
   "metadata": {
    "ExecuteTime": {
     "end_time": "2023-07-15T14:11:53.067789Z",
     "start_time": "2023-07-15T14:11:52.538732Z"
    }
   },
   "outputs": [],
   "source": [
    "disp = numerical_attributes.agg(['min', 'max', lambda x: max(x) - min(x), 'mean', 'median','std','skew','kurtosis']).T.rename(columns={'<lambda>':'range'})\n",
    "disp"
   ]
  },
  {
   "cell_type": "code",
   "execution_count": null,
   "id": "06107afb",
   "metadata": {
    "ExecuteTime": {
     "end_time": "2023-07-15T14:11:53.115024Z",
     "start_time": "2023-07-15T14:11:53.101807Z"
    }
   },
   "outputs": [],
   "source": [
    "categorical_attributes"
   ]
  },
  {
   "cell_type": "code",
   "execution_count": null,
   "id": "2e3ce91e",
   "metadata": {
    "ExecuteTime": {
     "end_time": "2023-07-15T14:12:31.329608Z",
     "start_time": "2023-07-15T14:11:53.117982Z"
    }
   },
   "outputs": [],
   "source": [
    "# #sweetviz\n",
    "# report = sweetviz.analyze(df1)\n",
    "# report.show_html()"
   ]
  },
  {
   "cell_type": "markdown",
   "id": "43fd5f2d",
   "metadata": {},
   "source": [
    "## 2.0 Feature Engineering"
   ]
  },
  {
   "cell_type": "code",
   "execution_count": null,
   "id": "159a50d6",
   "metadata": {
    "ExecuteTime": {
     "end_time": "2023-07-15T14:12:31.360472Z",
     "start_time": "2023-07-15T14:12:31.331743Z"
    }
   },
   "outputs": [],
   "source": [
    "df2 = df1.copy()"
   ]
  },
  {
   "cell_type": "code",
   "execution_count": null,
   "id": "0d452794",
   "metadata": {},
   "outputs": [],
   "source": [
    "# df2 = feature_eng(df2)"
   ]
  },
  {
   "cell_type": "markdown",
   "id": "c5d1712c",
   "metadata": {},
   "source": [
    "## 3.0 EDA"
   ]
  },
  {
   "cell_type": "code",
   "execution_count": null,
   "id": "7ce252b4",
   "metadata": {
    "ExecuteTime": {
     "end_time": "2023-07-15T14:14:47.585023Z",
     "start_time": "2023-07-15T14:14:47.568493Z"
    }
   },
   "outputs": [],
   "source": [
    "df3 = df2.copy()"
   ]
  },
  {
   "cell_type": "code",
   "execution_count": null,
   "id": "591548b4",
   "metadata": {
    "ExecuteTime": {
     "end_time": "2023-07-15T14:31:54.579651Z",
     "start_time": "2023-07-15T14:31:54.560223Z"
    }
   },
   "outputs": [],
   "source": [
    "df3.head()"
   ]
  },
  {
   "cell_type": "markdown",
   "id": "c6a94c5b",
   "metadata": {},
   "source": [
    "## 4.0 Pre-Processing"
   ]
  },
  {
   "cell_type": "code",
   "execution_count": null,
   "id": "60aeb5f8",
   "metadata": {},
   "outputs": [],
   "source": [
    "df4 = df3.copy()"
   ]
  },
  {
   "cell_type": "code",
   "execution_count": null,
   "id": "65281589",
   "metadata": {
    "ExecuteTime": {
     "end_time": "2023-07-15T15:21:27.372989Z",
     "start_time": "2023-07-15T15:21:27.263109Z"
    }
   },
   "outputs": [],
   "source": [
    "df4 = df3.copy()\n",
    "\n",
    "le = LabelEncoder()\n",
    "\n",
    "colunas = ['gender', 'customer_type', 'type_of_purchase', 'store_size']\n",
    "\n",
    "for coluna in colunas:\n",
    "    df4[coluna] = le.fit_transform(df4[coluna])"
   ]
  },
  {
   "cell_type": "code",
   "execution_count": null,
   "id": "daffbf05",
   "metadata": {
    "ExecuteTime": {
     "end_time": "2023-07-15T15:21:29.618883Z",
     "start_time": "2023-07-15T15:21:29.575295Z"
    }
   },
   "outputs": [],
   "source": [
    "df4['satisfaction'] = df4['satisfaction'].apply(lambda x: 1 if x =='Satisfied' else 0)"
   ]
  },
  {
   "cell_type": "code",
   "execution_count": null,
   "id": "7ea99bb0",
   "metadata": {},
   "outputs": [],
   "source": [
    "# Seletor de colunas automatizado\n",
    "# rf = RandomForestClassifier(n_jobs=-1)\n",
    "\n",
    "# X_imp = df4.drop('satisfaction', axis=1).copy()\n",
    "# y_imp = df4['satisfaction'].copy()\n",
    "\n",
    "# rf.fit(X_imp, y_imp)\n",
    "\n",
    "# importances = rf.feature_importances_\n",
    "# ranking_columns = X_imp.columns"
   ]
  },
  {
   "cell_type": "code",
   "execution_count": null,
   "id": "6f16b938",
   "metadata": {},
   "outputs": [],
   "source": [
    "# pd.DataFrame({'Feature':ranking_columns, 'Ranking':importances}).sort_values(by='Ranking', ascending=False)"
   ]
  },
  {
   "cell_type": "code",
   "execution_count": null,
   "id": "1944773d",
   "metadata": {},
   "outputs": [],
   "source": [
    "# #RFE\n",
    "# rfe = RFECV(estimator=rf, cv=5, n_jobs=-1)\n",
    "\n",
    "# #train RFE\n",
    "# X_rfe = rfe.fit_transform(X_imp, y_imp)\n",
    "\n",
    "# selected_columns = X_imp.columns[rfe.support_]"
   ]
  },
  {
   "cell_type": "code",
   "execution_count": null,
   "id": "55ebfbdc",
   "metadata": {},
   "outputs": [],
   "source": [
    "# # Seletor de colunas RFECV\n",
    "\n",
    "# selected_columns = ['id', 'customer_type', 'age', 'type_of_purchase', 'store_size',\n",
    "#                     'store_distance', 'instore_wifi', 'open_close_time_convenient',\n",
    "#                     'easy_of_online_shopping', 'store_location', 'dressing_room',\n",
    "#                     'waiting_room', 'kids_entertainment', 'seller_service', 'showroom',\n",
    "#                     'self-store', 'purchase_service', 'store_service', 'cleanliness',\n",
    "#                     'delivery_delay_in_minutes', 'average_rating', 'max_rating',\n",
    "#                     'min_rating', 'var_rating', 'count_positive', 'count_negative']"
   ]
  },
  {
   "cell_type": "code",
   "execution_count": null,
   "id": "740e8119",
   "metadata": {},
   "outputs": [],
   "source": [
    "# Seletor de colunas do Bernardo\n",
    "\n",
    "# selected_columns = ['min_rating','count_positive','average_rating', 'dressing_room','waiting_room',\n",
    "#                     'max_rating','seller_service','showroom','cleanliness','instore_wifi','self-store',\n",
    "#                     'toilet_cleaning', 'easy_of_online_shopping','age']"
   ]
  },
  {
   "cell_type": "code",
   "execution_count": null,
   "id": "ac6cd7a7",
   "metadata": {},
   "outputs": [],
   "source": [
    "# Colunas padrão do Dataset\n",
    "\n",
    "selected_columns = ['id', 'gender', 'customer_type', 'age', 'type_of_purchase',\n",
    "       'store_size', 'store_distance', 'instore_wifi',\n",
    "       'open_close_time_convenient', 'easy_of_online_shopping',\n",
    "       'store_location', 'toilet_cleaning', 'dressing_room', 'waiting_room',\n",
    "       'kids_entertainment', 'seller_service', 'showroom', 'self-store',\n",
    "       'purchase_service', 'store_service', 'cleanliness',\n",
    "       'carrier_delay_in_minutes', 'delivery_delay_in_minutes'\n",
    "       ]"
   ]
  },
  {
   "cell_type": "code",
   "execution_count": null,
   "id": "095bd135",
   "metadata": {},
   "outputs": [],
   "source": [
    "# Aplicação do Boruta para seleção de features\n",
    "\n",
    "# rf = RandomForestClassifier(n_jobs=-1, n_estimators=500, oob_score=True, max_depth=6)\n",
    "\n",
    "# X_boruta = df4.drop('satisfaction', axis=1).values.copy()\n",
    "# y_boruta = df4['satisfaction'].values.copy()\n",
    "\n",
    "# feat_selector = BorutaPy(rf, n_estimators='auto', verbose=2, random_state=42)\n",
    "# feat_selector.fit(X_boruta, y_boruta)"
   ]
  },
  {
   "cell_type": "code",
   "execution_count": null,
   "id": "382b08b7",
   "metadata": {},
   "outputs": [],
   "source": [
    "# cols_selected = feat_selector.support_.tolist()\n",
    "# cols_selected"
   ]
  },
  {
   "cell_type": "code",
   "execution_count": null,
   "id": "f202c9d5",
   "metadata": {},
   "outputs": [],
   "source": []
  },
  {
   "cell_type": "code",
   "execution_count": null,
   "id": "b81d5613",
   "metadata": {},
   "outputs": [],
   "source": []
  },
  {
   "cell_type": "markdown",
   "id": "0690945e",
   "metadata": {},
   "source": [
    "## 5.0 Machine Learning"
   ]
  },
  {
   "cell_type": "code",
   "execution_count": null,
   "id": "e4fb3ce8",
   "metadata": {
    "ExecuteTime": {
     "end_time": "2023-07-15T15:21:34.986513Z",
     "start_time": "2023-07-15T15:21:34.961851Z"
    }
   },
   "outputs": [],
   "source": [
    "df5 = df4.copy()"
   ]
  },
  {
   "cell_type": "markdown",
   "id": "fd5ec76d",
   "metadata": {},
   "source": [
    "### 5.1 Split Train-Validation"
   ]
  },
  {
   "cell_type": "code",
   "execution_count": null,
   "id": "bbbdfa41",
   "metadata": {
    "ExecuteTime": {
     "end_time": "2023-07-15T15:21:35.576496Z",
     "start_time": "2023-07-15T15:21:35.525762Z"
    }
   },
   "outputs": [],
   "source": [
    "X = df5.loc[:,selected_columns].copy()\n",
    "\n",
    "y = df5['satisfaction'].copy()\n",
    "\n",
    "X_train, X_val, y_train, y_val = train_test_split(X, y, test_size=0.2, random_state=42)"
   ]
  },
  {
   "cell_type": "markdown",
   "id": "50483ec6",
   "metadata": {},
   "source": [
    "### 5.2 Test Models"
   ]
  },
  {
   "cell_type": "code",
   "execution_count": null,
   "id": "b2f2db60",
   "metadata": {
    "ExecuteTime": {
     "end_time": "2023-07-15T14:37:33.729523Z",
     "start_time": "2023-07-15T14:37:33.724950Z"
    }
   },
   "outputs": [],
   "source": [
    "# model_list = [RandomForestClassifier,\n",
    "#              XGBClassifier,\n",
    "#              CatBoostClassifier,\n",
    "#              LGBMClassifier]\n",
    "\n",
    "# for model in model_list:\n",
    "#     if model.__name__ == 'CatBoostClassifier':\n",
    "#         mds = model(verbose=False)\n",
    "#     else:\n",
    "#         mds = model()\n",
    "#     kfold = KFold(n_splits=10)\n",
    "#     s = cross_val_score(mds, X, y, scoring='precision_micro', cv=kfold)\n",
    "#     print(f\"{model.__name__:22} Precision_micro: {s.mean():.5f} +/- {s.std():.3f} \")"
   ]
  },
  {
   "cell_type": "markdown",
   "id": "1358bdad",
   "metadata": {},
   "source": [
    "### 5.3 XGboost"
   ]
  },
  {
   "cell_type": "code",
   "execution_count": null,
   "id": "c9db05eb",
   "metadata": {
    "ExecuteTime": {
     "end_time": "2023-07-15T14:47:35.673766Z",
     "start_time": "2023-07-15T14:47:31.616129Z"
    }
   },
   "outputs": [],
   "source": [
    "#define model\n",
    "xgb_model = XGBClassifier()\n",
    "\n",
    "#train model\n",
    "xgb_model.fit(X_train, y_train)\n",
    "\n",
    "#predict\n",
    "yhat_xgb = xgb_model.predict(X_val)\n",
    "xgb_metrics = classification_metrics(XGBClassifier, y_val, yhat_xgb)\n",
    "xgb_metrics"
   ]
  },
  {
   "cell_type": "markdown",
   "id": "62154007",
   "metadata": {},
   "source": [
    "#### 5.3.1 XGboost Fine Tune"
   ]
  },
  {
   "cell_type": "code",
   "execution_count": null,
   "id": "8ed7d0b1",
   "metadata": {},
   "outputs": [],
   "source": [
    "# # Perform Optuna optimization to find the best hyperparameters\n",
    "# study = optuna.create_study(direction='maximize')\n",
    "# study.optimize(objective_xgb, n_trials=100)\n",
    "\n",
    "# # Get the best hyperparameters\n",
    "# best_params = study.best_params\n",
    "# print(\"Best hyperparameters:\", best_params)"
   ]
  },
  {
   "cell_type": "code",
   "execution_count": null,
   "id": "cbd5b764",
   "metadata": {},
   "outputs": [],
   "source": [
    "# Trial 1 finished with value: 0.9658341754487272 and \n",
    "\n",
    "best_params = {'learning_rate': 0.03675463577871452, 'n_estimators': 358, 'max_depth': 9, 'min_child_weight': 3, \n",
    "             'subsample': 0.9070981291095677, 'colsample_bytree': 0.8654054658354458, 'gamma': 0.1559437479399407, \n",
    "             'reg_alpha': 0.3193815108502869, 'reg_lambda': 0.816066093937444}\n",
    "\n",
    "\n",
    "# Best is trial 1 with value: 0.9658341754487272."
   ]
  },
  {
   "cell_type": "code",
   "execution_count": null,
   "id": "0fcde872",
   "metadata": {},
   "outputs": [],
   "source": [
    "# # Train the XGBClassifier with the best hyperparameters on the entire training dataset\n",
    "# best_xgb_model = XGBClassifier(**best_params)\n",
    "# best_xgb_model.fit(X_train, y_train)"
   ]
  },
  {
   "cell_type": "code",
   "execution_count": null,
   "id": "308240bd",
   "metadata": {},
   "outputs": [],
   "source": [
    "# # Evaluate the model on the testing set\n",
    "# y_pred = best_xgb_model.predict(X_val)\n",
    "# precision_micro = precision_score(y_val, y_pred, average='micro')\n",
    "# print(\"Micro-averaged Precision on the testing set:\", precision_micro)"
   ]
  },
  {
   "cell_type": "code",
   "execution_count": null,
   "id": "cc0671e6",
   "metadata": {},
   "outputs": [],
   "source": [
    "# # Define the hyperparameter grid for Grid Search\n",
    "# param_grid = {\n",
    "#     'learning_rate': [0.01, 0.05, 0.1],\n",
    "#     'n_estimators': [100, 150, 200],\n",
    "#     'max_depth': [3, 4, 5],\n",
    "#     'min_child_weight': [1, 3, 5],\n",
    "#     'subsample': [0.8, 0.9, 1.0],\n",
    "#     'colsample_bytree': [0.8, 0.9, 1.0],\n",
    "#     'gamma': [0, 0.1, 0.2],\n",
    "#     'reg_alpha': [0, 0.1, 0.5],\n",
    "#     'reg_lambda': [0, 0.1, 1.0],\n",
    "# }\n",
    "\n",
    "# # Perform Grid Search to find the best hyperparameters\n",
    "# grid_search = GridSearchCV(estimator=xgb_model, param_grid=param_grid, cv=3, n_jobs=-1)\n",
    "# grid_search.fit(X_train, y_train)\n",
    "\n",
    "# # Get the best hyperparameters\n",
    "# best_params = grid_search.best_params_\n",
    "# print(\"Best hyperparameters:\", best_params)"
   ]
  },
  {
   "cell_type": "code",
   "execution_count": null,
   "id": "ec9e1695",
   "metadata": {},
   "outputs": [],
   "source": []
  },
  {
   "cell_type": "markdown",
   "id": "f061c534",
   "metadata": {},
   "source": [
    "### 5.4 Random Forest"
   ]
  },
  {
   "cell_type": "code",
   "execution_count": null,
   "id": "a92e57ba",
   "metadata": {
    "ExecuteTime": {
     "end_time": "2023-07-15T14:56:30.015117Z",
     "start_time": "2023-07-15T14:56:13.831567Z"
    }
   },
   "outputs": [],
   "source": [
    "#define model\n",
    "rf_model = RandomForestClassifier()\n",
    "\n",
    "#train model\n",
    "rf_model.fit(X_train, y_train)\n",
    "\n",
    "#predict\n",
    "yhat_rf = rf_model.predict(X_val)\n",
    "rf_metrics = classification_metrics(RandomForestClassifier, y_val, yhat_rf)\n",
    "rf_metrics"
   ]
  },
  {
   "cell_type": "markdown",
   "id": "2f08a28c",
   "metadata": {},
   "source": [
    "#### 5.4.1 Random Forest Fine Tune"
   ]
  },
  {
   "cell_type": "code",
   "execution_count": null,
   "id": "305a3391",
   "metadata": {},
   "outputs": [],
   "source": [
    "# # Perform Optuna optimization to find the best hyperparameters\n",
    "# study = optuna.create_study(direction='maximize')\n",
    "# study.optimize(objective_rfc, n_trials=100)\n",
    "\n",
    "# # Get the best hyperparameters\n",
    "# best_params = study.best_params\n",
    "# print(\"Best hyperparameters:\", best_params)"
   ]
  },
  {
   "cell_type": "code",
   "execution_count": null,
   "id": "22f13c5b",
   "metadata": {},
   "outputs": [],
   "source": [
    "# finished with value: 0.9550069775275492 and parameters: \n",
    "\n",
    "best_params = {'n_estimators': 217, 'max_depth': 10, 'min_samples_split': 8, 'min_samples_leaf': 1, 'max_features': 0.43036001596791873}\n",
    "\n",
    "#Best is trial 11 with value: 0.9550069775275492"
   ]
  },
  {
   "cell_type": "code",
   "execution_count": null,
   "id": "67eb9bef",
   "metadata": {},
   "outputs": [],
   "source": [
    "# # Train the RandomForestClassifier with the best hyperparameters on the entire training dataset\n",
    "# best_rf_model = RandomForestClassifier(**best_params, random_state=42)\n",
    "# best_rf_model.fit(X_train, y_train)\n",
    "\n",
    "# # Evaluate the model on the testing set\n",
    "# y_pred = best_rf_model.predict(X_val)\n",
    "# accuracy_micro = accuracy_score(y_val, y_pred)\n",
    "# print(\"Micro-averaged Accuracy on the testing set:\", accuracy_micro)"
   ]
  },
  {
   "cell_type": "code",
   "execution_count": null,
   "id": "09f998e5",
   "metadata": {},
   "outputs": [],
   "source": []
  },
  {
   "cell_type": "code",
   "execution_count": null,
   "id": "47e32dea",
   "metadata": {},
   "outputs": [],
   "source": [
    "# # Define the hyperparameter grid for Grid Search\n",
    "# param_grid = {\n",
    "#     'n_estimators': [100, 200, 300],     # Number of trees in the forest\n",
    "#     'max_depth': [None, 10, 20, 30],     # Maximum depth of each tree\n",
    "#     'min_samples_split': [2, 5, 10],     # Minimum number of samples required to split an internal node\n",
    "#     'min_samples_leaf': [1, 2, 4],       # Minimum number of samples required to be at a leaf node\n",
    "#     'criterion': ['gini', 'entropy'],    # Function to measure the quality of a split\n",
    "#     'bootstrap': [True, False]           # Whether to use bootstrapping for training trees\n",
    "# }\n",
    "\n",
    "# # Perform Grid Search to find the best hyperparameters\n",
    "# grid_search = GridSearchCV(estimator=rf_model, param_grid=param_grid, cv=3, n_jobs=-1)\n",
    "# grid_search.fit(X_train, y_train)\n",
    "\n",
    "# # Get the best hyperparameters\n",
    "# best_params = grid_search.best_params_\n",
    "# print(\"Best hyperparameters:\", best_params)\n",
    "\n",
    "# Best hyperparameters: {'bootstrap': False, 'criterion': 'entropy', \n",
    "#                        'max_depth': None, 'max_features': 'auto', \n",
    "#                        'min_samples_leaf': 1, 'min_samples_split': 10, \n",
    "#                        'n_estimators': 100}"
   ]
  },
  {
   "cell_type": "code",
   "execution_count": null,
   "id": "a7daf03e",
   "metadata": {},
   "outputs": [],
   "source": []
  },
  {
   "cell_type": "markdown",
   "id": "b96fde92",
   "metadata": {},
   "source": [
    "### 5.5 CatBoost"
   ]
  },
  {
   "cell_type": "code",
   "execution_count": null,
   "id": "a7ff8851",
   "metadata": {
    "ExecuteTime": {
     "end_time": "2023-07-15T15:21:52.643833Z",
     "start_time": "2023-07-15T15:21:39.200235Z"
    }
   },
   "outputs": [],
   "source": [
    "#define model\n",
    "cbc_model = CatBoostClassifier(verbose=False)\n",
    "\n",
    "#train model\n",
    "cbc_model.fit(X_train, y_train)\n",
    "\n",
    "#predict\n",
    "yhat_cat = cbc_model.predict(X_val)\n",
    "cat_metrics = classification_metrics(CatBoostClassifier, y_val, yhat_cat)\n",
    "cat_metrics"
   ]
  },
  {
   "cell_type": "code",
   "execution_count": null,
   "id": "05c25bc8",
   "metadata": {},
   "outputs": [],
   "source": [
    "# cbc_model = CatBoostClassifier(learning_rate=0.07387672224251493, iterations=359, depth=8, l2_leaf_reg=5.734460480597243, \n",
    "#                                 subsample=0.9402392714951302, colsample_bylevel=0.8203118238462109, border_count=180, verbose=False)\n",
    "\n",
    "# #train model\n",
    "# cbc_model.fit(X_train, y_train)\n",
    "\n",
    "# #predict\n",
    "# yhat_cat = cbc_model.predict(X_val)\n",
    "# cat_metrics = classification_metrics(CatBoostClassifier, y_val, yhat_cat)\n",
    "# cat_metrics"
   ]
  },
  {
   "cell_type": "code",
   "execution_count": null,
   "id": "a454dabe",
   "metadata": {},
   "outputs": [],
   "source": []
  },
  {
   "cell_type": "markdown",
   "id": "f3aa6a29",
   "metadata": {},
   "source": [
    "#### 5.5.1 CatBoost Fine Tune"
   ]
  },
  {
   "cell_type": "code",
   "execution_count": null,
   "id": "d388b5a1",
   "metadata": {},
   "outputs": [],
   "source": [
    "# Perform Optuna optimization to find the best hyperparameters\n",
    "study = optuna.create_study(direction='maximize')\n",
    "study.optimize(objective_cbc, n_trials=100)\n",
    "\n",
    "# Get the best hyperparameters\n",
    "best_params = study.best_params\n",
    "print(\"Best hyperparameters:\", best_params)"
   ]
  },
  {
   "cell_type": "code",
   "execution_count": null,
   "id": "4a35f523",
   "metadata": {},
   "outputs": [],
   "source": [
    "#Trial 47 finished with value: 0.9669890765603195 and parameters: \n",
    "\n",
    "\n",
    "best_params = {'learning_rate': 0.07387672224251493, 'iterations': 359, 'depth': 8, 'l2_leaf_reg': 5.734460480597243, \n",
    "               'subsample': 0.9402392714951302, 'colsample_bylevel': 0.8203118238462109, 'border_count': 180}\n",
    "\n",
    "\n",
    "#Best is trial 47 with value: 0.9669890765603195."
   ]
  },
  {
   "cell_type": "code",
   "execution_count": null,
   "id": "fea9f6d8",
   "metadata": {},
   "outputs": [],
   "source": [
    "# # Train the CatBoostClassifier with the best hyperparameters on the entire training dataset\n",
    "# best_cat_model = CatBoostClassifier(**best_params, verbose=False)\n",
    "# best_cat_model.fit(X_train, y_train)\n",
    "# # Evaluate the model on the testing set\n",
    "# y_pred = best_cat_model.predict(X_val)\n",
    "# accuracy_micro = accuracy_score(y_val, y_pred)\n",
    "# print(\"Micro-averaged Accuracy on the testing set:\", accuracy_micro)"
   ]
  },
  {
   "cell_type": "code",
   "execution_count": null,
   "id": "a9ec0896",
   "metadata": {},
   "outputs": [],
   "source": [
    "# catboost_model = CatBoostClassifier()\n",
    "\n",
    "# param_grid = {\n",
    "#     'iterations': [100, 150, 200],\n",
    "#     'learning_rate': [0.01, 0.05, 0.1],\n",
    "#     'depth': [4, 6, 8],\n",
    "#     'l2_leaf_reg': [1, 3, 5]\n",
    "# }\n",
    "\n",
    "# grid_search = GridSearchCV(estimator=catboost_model, param_grid=param_grid, cv=3, n_jobs=-1, verbose=False)\n",
    "# grid_search.fit(X_train, y_train)"
   ]
  },
  {
   "cell_type": "code",
   "execution_count": null,
   "id": "19b79910",
   "metadata": {},
   "outputs": [],
   "source": [
    "# # Get the best hyperparameters and train the CatBoostClassifier with them\n",
    "# best_params = grid_search.best_params_\n",
    "# best_params = {'depth': 8, 'iterations': 200, 'l2_leaf_reg': 5, 'learning_rate': 0.1}"
   ]
  },
  {
   "cell_type": "code",
   "execution_count": null,
   "id": "1bf1fe7b",
   "metadata": {},
   "outputs": [],
   "source": [
    "# # Create a new CatBoostClassifier with the best parameters\n",
    "# best_catboost_model = CatBoostClassifier(\n",
    "#     iterations=best_params['iterations'],\n",
    "#     learning_rate=best_params['learning_rate'],\n",
    "#     depth=best_params['depth'],\n",
    "#     l2_leaf_reg=best_params['l2_leaf_reg'],\n",
    "#     verbose=False\n",
    "# )\n",
    "\n",
    "# # Train the model on the entire training dataset\n",
    "# best_catboost_model.fit(X_train, y_train)\n",
    "# y_pred = best_catboost_model.predict(X_val)\n",
    "# accuracy = mt.accuracy_score(y_pred, y_val)\n",
    "# accuracy"
   ]
  },
  {
   "cell_type": "markdown",
   "id": "192d96cf",
   "metadata": {},
   "source": [
    "### 5.6 LGBMClassifier"
   ]
  },
  {
   "cell_type": "code",
   "execution_count": null,
   "id": "7bb0ad04",
   "metadata": {
    "ExecuteTime": {
     "end_time": "2023-07-15T15:06:52.246742Z",
     "start_time": "2023-07-15T15:06:51.646832Z"
    }
   },
   "outputs": [],
   "source": [
    "#define model\n",
    "lgbm_model = LGBMClassifier()\n",
    "\n",
    "#train model\n",
    "lgbm_model.fit(X_train, y_train)\n",
    "\n",
    "#predict\n",
    "yhat_lgb = lgbm_model.predict(X_val)\n",
    "lgb_metrics = classification_metrics(LGBMClassifier, y_val, yhat_lgb)\n",
    "lgb_metrics"
   ]
  },
  {
   "cell_type": "markdown",
   "id": "d219b025",
   "metadata": {},
   "source": [
    "#### 5.6.1 LGBMClassifier Fine Tune"
   ]
  },
  {
   "cell_type": "code",
   "execution_count": null,
   "id": "fed5e34d",
   "metadata": {},
   "outputs": [],
   "source": [
    "# # Perform Optuna optimization to find the best hyperparameters\n",
    "# study = optuna.create_study(direction='maximize')\n",
    "# study.optimize(objective_lgbm, n_trials=100)\n",
    "\n",
    "# # Get the best hyperparameters\n",
    "# best_params = study.best_params\n",
    "# print(\"Best hyperparameters:\", best_params)"
   ]
  },
  {
   "cell_type": "code",
   "execution_count": null,
   "id": "530b7313",
   "metadata": {},
   "outputs": [],
   "source": [
    "# 11 finished with value: 0.9657379336894278 and parameters: \n",
    "# {'learning_rate': 0.0987538633591418, 'n_estimators': 378, 'max_depth': 8, 'num_leaves': 31, 'min_child_samples': 1, \n",
    "# 'subsample': 0.912601414559834, 'colsample_bytree': 0.875643265547526, \n",
    "# 'reg_alpha': 0.9765911589066228, 'reg_lambda': 0.3294979414734899}. \n",
    "# Best is trial 11 with value: 0.9657379336894278."
   ]
  },
  {
   "cell_type": "code",
   "execution_count": null,
   "id": "13c4b8a5",
   "metadata": {},
   "outputs": [],
   "source": [
    "best_params = {'learning_rate': 0.0987538633591418, 'n_estimators': 378, 'max_depth': 8, 'num_leaves': 31, 'min_child_samples': 1, \n",
    "'subsample': 0.912601414559834, 'colsample_bytree': 0.875643265547526, \n",
    "'reg_alpha': 0.9765911589066228, 'reg_lambda': 0.3294979414734899}"
   ]
  },
  {
   "cell_type": "code",
   "execution_count": null,
   "id": "1e153187",
   "metadata": {},
   "outputs": [],
   "source": [
    "# # Train the LGBMClassifier with the best hyperparameters on the entire training dataset\n",
    "# best_lgb_model = LGBMClassifier(**best_params)\n",
    "# best_lgb_model.fit(X_train, y_train)\n",
    "\n",
    "# # Evaluate the model on the testing set\n",
    "# y_pred = best_lgb_model.predict(X_val)\n",
    "# precision_micro = precision_score(y_val, y_pred, average='micro')\n",
    "# print(\"Micro-averaged Precision on the testing set:\", precision_micro)"
   ]
  },
  {
   "cell_type": "code",
   "execution_count": null,
   "id": "9a3c3cda",
   "metadata": {},
   "outputs": [],
   "source": [
    "# # Define the hyperparameter grid for Grid Search\n",
    "# param_grid = {\n",
    "#     'learning_rate': [0.01, 0.05, 0.1],\n",
    "#     'n_estimators': [100, 150, 200],\n",
    "#     'max_depth': [3, 4, 5],\n",
    "#     'num_leaves': [15, 31, 63],\n",
    "#     'min_child_samples': [1, 5, 10],\n",
    "#     'subsample': [0.8, 0.9, 1.0],\n",
    "#     'colsample_bytree': [0.8, 0.9, 1.0],\n",
    "#     'reg_alpha': [0, 0.1, 0.5],\n",
    "#     'reg_lambda': [0, 0.1, 1.0],\n",
    "# }\n",
    "\n",
    "# # Perform Grid Search to find the best hyperparameters\n",
    "# grid_search = GridSearchCV(estimator=lgb_model, param_grid=param_grid, cv=3, n_jobs=-1)\n",
    "# grid_search.fit(X_train, y_train)\n",
    "\n",
    "# # Get the best hyperparameters\n",
    "# best_params = grid_search.best_params_\n",
    "# print(\"Best hyperparameters:\", best_params)"
   ]
  },
  {
   "cell_type": "markdown",
   "id": "9d2d8b04",
   "metadata": {},
   "source": [
    "## 6.0 Ensemble Learning"
   ]
  },
  {
   "cell_type": "code",
   "execution_count": null,
   "id": "b00b4125",
   "metadata": {},
   "outputs": [],
   "source": [
    "df6 = df5.copy()"
   ]
  },
  {
   "cell_type": "code",
   "execution_count": null,
   "id": "60d5d79b",
   "metadata": {},
   "outputs": [],
   "source": [
    "cbc_model = CatBoostClassifier(learning_rate=0.07387672224251493, iterations=359, depth=8, l2_leaf_reg=5.734460480597243, \n",
    "                                subsample=0.9402392714951302, colsample_bylevel=0.8203118238462109, border_count=180, verbose=False)\n",
    "\n",
    "rf_model = RandomForestClassifier(bootstrap=False, criterion='entropy', n_estimators=217, max_depth=10, min_samples_split=8,\n",
    "                                  min_samples_leaf=1, max_features=0.43036001596791873, n_jobs=-1, random_state=42)\n",
    "\n",
    "xgb_model = XGBClassifier(learning_rate=0.03675463577871452,  n_estimators=358, max_depth=9, min_child_weight=3, \n",
    "                          subsample=0.9070981291095677, colsample_bytree=0.8654054658354458, gamma=0.1559437479399407, \n",
    "                          reg_alpha=0.3193815108502869, reg_lambda=0.816066093937444, random_state=42, n_jobs=-1)\n",
    "\n",
    "lgbm_model = LGBMClassifier(learning_rate=0.0987538633591418, n_estimators=378, max_depth=8, num_leaves=31, min_child_samples=1, \n",
    "                            subsample=0.912601414559834, colsample_bytree=0.875643265547526, reg_alpha=0.9765911589066228, \n",
    "                            reg_lambda=0.3294979414734899, random_state=42, n_jobs=-1)\n",
    "\n",
    "\n",
    "logreg_model = LogisticRegression(max_iter=1000)\n",
    "\n",
    "nb_model = GaussianNB()\n",
    "\n",
    "dt_model = DecisionTreeClassifier()\n",
    "\n",
    "\n",
    "# Voting Classifier Model\n",
    "voting_clf = VotingClassifier(estimators=[('cbc', cbc_model), ('random_forest', rf_model), ('xgboost', xgb_model),\n",
    "                                            ('lgbm', lgbm_model), ('logreg', logreg_model),\n",
    "                                            ('gaussian', nb_model), ('decisiontree', dt_model)],\n",
    "                            voting='soft', # 'soft' usa probabilidades para votação, enquanto 'hard' usa rótulos\n",
    "                            weights=[3, 1, 1, 1, 1, 1, 1], # Pode ser usado para ponderar a importância de cada classificador, como [2, 1, 3, ...]\n",
    "                            n_jobs=-1)\n",
    "\n",
    "voting_clf.fit(X_train, y_train)\n",
    "\n",
    "y_pred_vot = voting_clf.predict(X_val)\n",
    "\n",
    "result = mt.precision_score(y_val, y_pred_vot, average='micro')\n",
    "result"
   ]
  },
  {
   "cell_type": "markdown",
   "id": "c360a3f5",
   "metadata": {},
   "source": [
    "## 7.0 Submission"
   ]
  },
  {
   "cell_type": "code",
   "execution_count": null,
   "id": "9e8e2b9b",
   "metadata": {
    "ExecuteTime": {
     "end_time": "2023-07-15T15:23:29.799687Z",
     "start_time": "2023-07-15T15:23:29.727122Z"
    }
   },
   "outputs": [],
   "source": [
    "X_test = pd.read_csv('data/test.csv')"
   ]
  },
  {
   "cell_type": "code",
   "execution_count": null,
   "id": "d5c9b881",
   "metadata": {
    "ExecuteTime": {
     "end_time": "2023-07-15T15:21:55.172941Z",
     "start_time": "2023-07-15T15:21:55.151866Z"
    }
   },
   "outputs": [],
   "source": [
    "X_test = data_cleaning(X_test)\n",
    "# X_test = feature_eng(X_test)"
   ]
  },
  {
   "cell_type": "code",
   "execution_count": null,
   "id": "eebd605a",
   "metadata": {
    "ExecuteTime": {
     "end_time": "2023-07-15T15:22:15.513764Z",
     "start_time": "2023-07-15T15:22:15.475600Z"
    }
   },
   "outputs": [],
   "source": [
    "colunas_test = ['gender', 'customer_type', 'type_of_purchase', 'store_size']\n",
    "\n",
    "for coluna in colunas_test:\n",
    "    X_test[coluna] = le.fit_transform(X_test[coluna])"
   ]
  },
  {
   "cell_type": "markdown",
   "id": "f070de55",
   "metadata": {},
   "source": [
    "### 7.1 Predict on test"
   ]
  },
  {
   "cell_type": "code",
   "execution_count": null,
   "id": "08ca7a09",
   "metadata": {},
   "outputs": [],
   "source": [
    "X = X.loc[:, selected_columns]\n",
    "X_test = X_test.loc[:, selected_columns]"
   ]
  },
  {
   "cell_type": "code",
   "execution_count": null,
   "id": "755a246b",
   "metadata": {},
   "outputs": [],
   "source": [
    "voting_clf.fit(X, y)"
   ]
  },
  {
   "cell_type": "code",
   "execution_count": null,
   "id": "949bb20d",
   "metadata": {
    "ExecuteTime": {
     "end_time": "2023-07-15T15:22:42.113886Z",
     "start_time": "2023-07-15T15:22:42.088173Z"
    }
   },
   "outputs": [],
   "source": [
    "# yhat_test = voting_clf.predict(X_test)\n",
    "# submission_df = X_test.copy()\n",
    "# submission_df['Satisfaction'] = yhat_test\n",
    "# submission_df = submission_df.loc[:,['id','Satisfaction']]\n",
    "# submission_df.to_csv('submission/submission_hypertune_05.csv', index=False)"
   ]
  },
  {
   "cell_type": "code",
   "execution_count": null,
   "id": "d91ddd43",
   "metadata": {},
   "outputs": [],
   "source": []
  }
 ],
 "metadata": {
  "kernelspec": {
   "display_name": "Python 3 (ipykernel)",
   "language": "python",
   "name": "python3"
  },
  "language_info": {
   "codemirror_mode": {
    "name": "ipython",
    "version": 3
   },
   "file_extension": ".py",
   "mimetype": "text/x-python",
   "name": "python",
   "nbconvert_exporter": "python",
   "pygments_lexer": "ipython3",
   "version": "3.9.16"
  }
 },
 "nbformat": 4,
 "nbformat_minor": 5
}
